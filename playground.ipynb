{
 "cells": [
  {
   "cell_type": "code",
   "execution_count": 4,
   "metadata": {},
   "outputs": [],
   "source": [
    "import pandas as pd\n",
    "import matplotlib.pyplot as plt\n",
    "# import seaborn as sns\n",
    "\n",
    "# sns.set()"
   ]
  },
  {
   "cell_type": "code",
   "execution_count": 5,
   "metadata": {},
   "outputs": [],
   "source": [
    "# Get data - covid info from NYT and zip code to county code (FIP) mapping from HUD\n",
    "# HUD: https://www.huduser.gov/portal/datasets/usps_crosswalk.html\n",
    "# NYT: https://github.com/nytimes/covid-19-data/blob/master/us-counties.csv\n",
    "\n",
    "zips_and_fips = pd.read_csv('zip-to-fips.csv')\n",
    "og_data = pd.read_csv('nyt-covid-7-8.csv')\n",
    "# Note that ~30% of counties are missing from NYT covid data!"
   ]
  },
  {
   "cell_type": "code",
   "execution_count": 15,
   "metadata": {},
   "outputs": [
    {
     "data": {
      "text/html": [
       "<div>\n",
       "<style scoped>\n",
       "    .dataframe tbody tr th:only-of-type {\n",
       "        vertical-align: middle;\n",
       "    }\n",
       "\n",
       "    .dataframe tbody tr th {\n",
       "        vertical-align: top;\n",
       "    }\n",
       "\n",
       "    .dataframe thead th {\n",
       "        text-align: right;\n",
       "    }\n",
       "</style>\n",
       "<table border=\"1\" class=\"dataframe\">\n",
       "  <thead>\n",
       "    <tr style=\"text-align: right;\">\n",
       "      <th></th>\n",
       "      <th>date</th>\n",
       "      <th>county</th>\n",
       "      <th>state</th>\n",
       "      <th>fips</th>\n",
       "      <th>cases</th>\n",
       "      <th>deaths</th>\n",
       "    </tr>\n",
       "  </thead>\n",
       "  <tbody>\n",
       "    <tr>\n",
       "      <th>0</th>\n",
       "      <td>2020-01-21</td>\n",
       "      <td>Snohomish</td>\n",
       "      <td>Washington</td>\n",
       "      <td>53061.0</td>\n",
       "      <td>1</td>\n",
       "      <td>0</td>\n",
       "    </tr>\n",
       "    <tr>\n",
       "      <th>1</th>\n",
       "      <td>2020-01-22</td>\n",
       "      <td>Snohomish</td>\n",
       "      <td>Washington</td>\n",
       "      <td>53061.0</td>\n",
       "      <td>1</td>\n",
       "      <td>0</td>\n",
       "    </tr>\n",
       "    <tr>\n",
       "      <th>2</th>\n",
       "      <td>2020-01-23</td>\n",
       "      <td>Snohomish</td>\n",
       "      <td>Washington</td>\n",
       "      <td>53061.0</td>\n",
       "      <td>1</td>\n",
       "      <td>0</td>\n",
       "    </tr>\n",
       "    <tr>\n",
       "      <th>3</th>\n",
       "      <td>2020-01-24</td>\n",
       "      <td>Cook</td>\n",
       "      <td>Illinois</td>\n",
       "      <td>17031.0</td>\n",
       "      <td>1</td>\n",
       "      <td>0</td>\n",
       "    </tr>\n",
       "    <tr>\n",
       "      <th>4</th>\n",
       "      <td>2020-01-24</td>\n",
       "      <td>Snohomish</td>\n",
       "      <td>Washington</td>\n",
       "      <td>53061.0</td>\n",
       "      <td>1</td>\n",
       "      <td>0</td>\n",
       "    </tr>\n",
       "  </tbody>\n",
       "</table>\n",
       "</div>"
      ],
      "text/plain": [
       "         date     county       state     fips  cases  deaths\n",
       "0  2020-01-21  Snohomish  Washington  53061.0      1       0\n",
       "1  2020-01-22  Snohomish  Washington  53061.0      1       0\n",
       "2  2020-01-23  Snohomish  Washington  53061.0      1       0\n",
       "3  2020-01-24       Cook    Illinois  17031.0      1       0\n",
       "4  2020-01-24  Snohomish  Washington  53061.0      1       0"
      ]
     },
     "execution_count": 15,
     "metadata": {},
     "output_type": "execute_result"
    }
   ],
   "source": [
    "og_data.head()"
   ]
  },
  {
   "cell_type": "code",
   "execution_count": 17,
   "metadata": {},
   "outputs": [],
   "source": [
    "og_data['fullname'] = og_data['county'] + ' County, ' + og_data['state']"
   ]
  },
  {
   "cell_type": "code",
   "execution_count": 6,
   "metadata": {},
   "outputs": [
    {
     "data": {
      "text/plain": [
       "51278    6085\n",
       "Name: COUNTY, dtype: int64"
      ]
     },
     "execution_count": 6,
     "metadata": {},
     "output_type": "execute_result"
    }
   ],
   "source": [
    "zipcode = 94022\n",
    "# zips_and_fips[zips_and_fips['ZIP'] == zipcode]\n",
    "zips_and_fips.loc[zips_and_fips.ZIP == zipcode,'COUNTY']"
   ]
  },
  {
   "cell_type": "code",
   "execution_count": 11,
   "metadata": {},
   "outputs": [
    {
     "data": {
      "text/plain": [
       "ZIP       int64\n",
       "COUNTY    int64\n",
       "dtype: object"
      ]
     },
     "execution_count": 11,
     "metadata": {},
     "output_type": "execute_result"
    }
   ],
   "source": [
    "zips_and_fips.dtypes"
   ]
  },
  {
   "cell_type": "code",
   "execution_count": 19,
   "metadata": {},
   "outputs": [
    {
     "data": {
      "text/plain": [
       "36061"
      ]
     },
     "execution_count": 19,
     "metadata": {},
     "output_type": "execute_result"
    }
   ],
   "source": [
    "zip_to_fips(10001)"
   ]
  },
  {
   "cell_type": "code",
   "execution_count": 13,
   "metadata": {},
   "outputs": [],
   "source": [
    "# Get data - covid info from NYT and zip code to county code (FIP) mapping from HUD\n",
    "# HUD: https://www.huduser.gov/portal/datasets/usps_crosswalk.html\n",
    "# NYT: https://github.com/nytimes/covid-19-data/blob/master/us-counties.csv\n",
    "\n",
    "zips_and_fips = pd.read_csv('zip-to-fips.csv')\n",
    "og_data = pd.read_csv('nyt-covid-7-8.csv')\n",
    "# Note that ~30% of counties are missing from NYT covid data!\n",
    "\n",
    "def zip_to_fips(zipcode):\n",
    "    \n",
    "    fip = zips_and_fips[zips_and_fips['ZIP'] == zipcode].iloc[0]['COUNTY']\n",
    "    \n",
    "    return fip\n",
    "\n",
    "def get_county_data(my_fips):\n",
    "    my_data = og_data[og_data.fips == my_fips]\n",
    "    \n",
    "    county_name = my_data['county'].unique()\n",
    "    \n",
    "    if len(county_name) > 1:\n",
    "        raise ValueError('something is wrong - found more than one matching county')\n",
    "    \n",
    "    my_filtered_data = my_data[['date', 'cases', 'deaths']]\n",
    "    \n",
    "    \n",
    "    return {\n",
    "        'county': county_name[0],\n",
    "        'data': my_filtered_data\n",
    "    }\n",
    "\n",
    "def zip_to_data(zip):\n",
    "    \"\"\"Returns dict with two values: 'county' has the name of the county, 'data' has a df with\n",
    "    date, cases to date, and deaths to date\"\"\"\n",
    "    \n",
    "    fips = zip_to_fips(zip)\n",
    "    data = get_county_data(fips)\n",
    "    \n",
    "    return data\n",
    "\n",
    "zip_code = 94022\n",
    "\n",
    "result = zip_to_data(zip_code)\n",
    "county_name = result['county']\n",
    "county_data = result['data']"
   ]
  },
  {
   "cell_type": "code",
   "execution_count": 22,
   "metadata": {},
   "outputs": [
    {
     "data": {
      "text/plain": [
       "36061"
      ]
     },
     "execution_count": 22,
     "metadata": {},
     "output_type": "execute_result"
    }
   ],
   "source": [
    "zip_to_fips(10010)"
   ]
  },
  {
   "cell_type": "code",
   "execution_count": 24,
   "metadata": {},
   "outputs": [
    {
     "data": {
      "text/html": [
       "<div>\n",
       "<style scoped>\n",
       "    .dataframe tbody tr th:only-of-type {\n",
       "        vertical-align: middle;\n",
       "    }\n",
       "\n",
       "    .dataframe tbody tr th {\n",
       "        vertical-align: top;\n",
       "    }\n",
       "\n",
       "    .dataframe thead th {\n",
       "        text-align: right;\n",
       "    }\n",
       "</style>\n",
       "<table border=\"1\" class=\"dataframe\">\n",
       "  <thead>\n",
       "    <tr style=\"text-align: right;\">\n",
       "      <th></th>\n",
       "      <th>date</th>\n",
       "      <th>county</th>\n",
       "      <th>state</th>\n",
       "      <th>fips</th>\n",
       "      <th>cases</th>\n",
       "      <th>deaths</th>\n",
       "      <th>fullname</th>\n",
       "    </tr>\n",
       "  </thead>\n",
       "  <tbody>\n",
       "  </tbody>\n",
       "</table>\n",
       "</div>"
      ],
      "text/plain": [
       "Empty DataFrame\n",
       "Columns: [date, county, state, fips, cases, deaths, fullname]\n",
       "Index: []"
      ]
     },
     "execution_count": 24,
     "metadata": {},
     "output_type": "execute_result"
    }
   ],
   "source": [
    "og_data[og_data.fips == 36061]"
   ]
  },
  {
   "cell_type": "code",
   "execution_count": 25,
   "metadata": {},
   "outputs": [
    {
     "data": {
      "text/html": [
       "<div>\n",
       "<style scoped>\n",
       "    .dataframe tbody tr th:only-of-type {\n",
       "        vertical-align: middle;\n",
       "    }\n",
       "\n",
       "    .dataframe tbody tr th {\n",
       "        vertical-align: top;\n",
       "    }\n",
       "\n",
       "    .dataframe thead th {\n",
       "        text-align: right;\n",
       "    }\n",
       "</style>\n",
       "<table border=\"1\" class=\"dataframe\">\n",
       "  <thead>\n",
       "    <tr style=\"text-align: right;\">\n",
       "      <th></th>\n",
       "      <th>date</th>\n",
       "      <th>county</th>\n",
       "      <th>state</th>\n",
       "      <th>fips</th>\n",
       "      <th>cases</th>\n",
       "      <th>deaths</th>\n",
       "      <th>fullname</th>\n",
       "    </tr>\n",
       "  </thead>\n",
       "  <tbody>\n",
       "    <tr>\n",
       "      <th>416</th>\n",
       "      <td>2020-03-01</td>\n",
       "      <td>New York City</td>\n",
       "      <td>New York</td>\n",
       "      <td>NaN</td>\n",
       "      <td>1</td>\n",
       "      <td>0</td>\n",
       "      <td>New York City County, New York</td>\n",
       "    </tr>\n",
       "    <tr>\n",
       "      <th>448</th>\n",
       "      <td>2020-03-02</td>\n",
       "      <td>New York City</td>\n",
       "      <td>New York</td>\n",
       "      <td>NaN</td>\n",
       "      <td>1</td>\n",
       "      <td>0</td>\n",
       "      <td>New York City County, New York</td>\n",
       "    </tr>\n",
       "    <tr>\n",
       "      <th>482</th>\n",
       "      <td>2020-03-03</td>\n",
       "      <td>New York City</td>\n",
       "      <td>New York</td>\n",
       "      <td>NaN</td>\n",
       "      <td>2</td>\n",
       "      <td>0</td>\n",
       "      <td>New York City County, New York</td>\n",
       "    </tr>\n",
       "    <tr>\n",
       "      <th>518</th>\n",
       "      <td>2020-03-04</td>\n",
       "      <td>New York City</td>\n",
       "      <td>New York</td>\n",
       "      <td>NaN</td>\n",
       "      <td>2</td>\n",
       "      <td>0</td>\n",
       "      <td>New York City County, New York</td>\n",
       "    </tr>\n",
       "    <tr>\n",
       "      <th>519</th>\n",
       "      <td>2020-03-04</td>\n",
       "      <td>Westchester</td>\n",
       "      <td>New York</td>\n",
       "      <td>36119.0</td>\n",
       "      <td>9</td>\n",
       "      <td>0</td>\n",
       "      <td>Westchester County, New York</td>\n",
       "    </tr>\n",
       "    <tr>\n",
       "      <th>...</th>\n",
       "      <td>...</td>\n",
       "      <td>...</td>\n",
       "      <td>...</td>\n",
       "      <td>...</td>\n",
       "      <td>...</td>\n",
       "      <td>...</td>\n",
       "      <td>...</td>\n",
       "    </tr>\n",
       "    <tr>\n",
       "      <th>309009</th>\n",
       "      <td>2020-07-08</td>\n",
       "      <td>Washington</td>\n",
       "      <td>New York</td>\n",
       "      <td>36115.0</td>\n",
       "      <td>247</td>\n",
       "      <td>11</td>\n",
       "      <td>Washington County, New York</td>\n",
       "    </tr>\n",
       "    <tr>\n",
       "      <th>309010</th>\n",
       "      <td>2020-07-08</td>\n",
       "      <td>Wayne</td>\n",
       "      <td>New York</td>\n",
       "      <td>36117.0</td>\n",
       "      <td>193</td>\n",
       "      <td>1</td>\n",
       "      <td>Wayne County, New York</td>\n",
       "    </tr>\n",
       "    <tr>\n",
       "      <th>309011</th>\n",
       "      <td>2020-07-08</td>\n",
       "      <td>Westchester</td>\n",
       "      <td>New York</td>\n",
       "      <td>36119.0</td>\n",
       "      <td>35153</td>\n",
       "      <td>1563</td>\n",
       "      <td>Westchester County, New York</td>\n",
       "    </tr>\n",
       "    <tr>\n",
       "      <th>309012</th>\n",
       "      <td>2020-07-08</td>\n",
       "      <td>Wyoming</td>\n",
       "      <td>New York</td>\n",
       "      <td>36121.0</td>\n",
       "      <td>98</td>\n",
       "      <td>3</td>\n",
       "      <td>Wyoming County, New York</td>\n",
       "    </tr>\n",
       "    <tr>\n",
       "      <th>309013</th>\n",
       "      <td>2020-07-08</td>\n",
       "      <td>Yates</td>\n",
       "      <td>New York</td>\n",
       "      <td>36123.0</td>\n",
       "      <td>48</td>\n",
       "      <td>6</td>\n",
       "      <td>Yates County, New York</td>\n",
       "    </tr>\n",
       "  </tbody>\n",
       "</table>\n",
       "<p>6600 rows × 7 columns</p>\n",
       "</div>"
      ],
      "text/plain": [
       "              date         county     state     fips  cases  deaths  \\\n",
       "416     2020-03-01  New York City  New York      NaN      1       0   \n",
       "448     2020-03-02  New York City  New York      NaN      1       0   \n",
       "482     2020-03-03  New York City  New York      NaN      2       0   \n",
       "518     2020-03-04  New York City  New York      NaN      2       0   \n",
       "519     2020-03-04    Westchester  New York  36119.0      9       0   \n",
       "...            ...            ...       ...      ...    ...     ...   \n",
       "309009  2020-07-08     Washington  New York  36115.0    247      11   \n",
       "309010  2020-07-08          Wayne  New York  36117.0    193       1   \n",
       "309011  2020-07-08    Westchester  New York  36119.0  35153    1563   \n",
       "309012  2020-07-08        Wyoming  New York  36121.0     98       3   \n",
       "309013  2020-07-08          Yates  New York  36123.0     48       6   \n",
       "\n",
       "                              fullname  \n",
       "416     New York City County, New York  \n",
       "448     New York City County, New York  \n",
       "482     New York City County, New York  \n",
       "518     New York City County, New York  \n",
       "519       Westchester County, New York  \n",
       "...                                ...  \n",
       "309009     Washington County, New York  \n",
       "309010          Wayne County, New York  \n",
       "309011    Westchester County, New York  \n",
       "309012        Wyoming County, New York  \n",
       "309013          Yates County, New York  \n",
       "\n",
       "[6600 rows x 7 columns]"
      ]
     },
     "execution_count": 25,
     "metadata": {},
     "output_type": "execute_result"
    }
   ],
   "source": [
    "og_data[og_data['state'] == 'New York']"
   ]
  },
  {
   "cell_type": "code",
   "execution_count": null,
   "metadata": {},
   "outputs": [],
   "source": [
    "zip_code = 94022\n",
    "\n",
    "result = zip_to_data(zip_code)\n",
    "county_name = result['county']\n",
    "county_data = result['data']"
   ]
  },
  {
   "cell_type": "code",
   "execution_count": null,
   "metadata": {},
   "outputs": [],
   "source": []
  },
  {
   "cell_type": "code",
   "execution_count": null,
   "metadata": {},
   "outputs": [],
   "source": []
  },
  {
   "cell_type": "code",
   "execution_count": null,
   "metadata": {},
   "outputs": [],
   "source": []
  },
  {
   "cell_type": "code",
   "execution_count": 14,
   "metadata": {},
   "outputs": [
    {
     "data": {
      "image/png": "[encoded data removed]",
      "text/plain": [
       "<Figure size 1296x720 with 1 Axes>"
      ]
     },
     "metadata": {
      "needs_background": "light"
     },
     "output_type": "display_data"
    }
   ],
   "source": [
    "santa_clara = zip_to_data(94022)['data']\n",
    "san_francisco = zip_to_data(94114)['data']\n",
    "orange_county = zip_to_data(92646)['data']\n",
    "tulsa = zip_to_data(74133)['data']\n",
    "\n",
    "\n",
    "plt.figure(figsize=(18, 10))\n",
    "plt.plot(orange_county['date'], orange_county['cases'], color='green')\n",
    "plt.plot(santa_clara['date'], santa_clara['cases'], color='blue')\n",
    "plt.plot(san_francisco['date'], san_francisco['cases'], color='red')\n",
    "plt.show()"
   ]
  },
  {
   "cell_type": "code",
   "execution_count": null,
   "metadata": {},
   "outputs": [],
   "source": []
  },
  {
   "cell_type": "code",
   "execution_count": null,
   "metadata": {},
   "outputs": [],
   "source": []
  },
  {
   "cell_type": "code",
   "execution_count": null,
   "metadata": {},
   "outputs": [],
   "source": []
  },
  {
   "cell_type": "code",
   "execution_count": null,
   "metadata": {},
   "outputs": [],
   "source": []
  },
  {
   "cell_type": "code",
   "execution_count": null,
   "metadata": {},
   "outputs": [],
   "source": []
  }
 ],
 "metadata": {
  "kernelspec": {
   "display_name": "Python 3",
   "language": "python",
   "name": "python3"
  },
  "language_info": {
   "codemirror_mode": {
    "name": "ipython",
    "version": 3
   },
   "file_extension": ".py",
   "mimetype": "text/x-python",
   "name": "python",
   "nbconvert_exporter": "python",
   "pygments_lexer": "ipython3",
   "version": "3.7.7"
  }
 },
 "nbformat": 4,
 "nbformat_minor": 2
}
