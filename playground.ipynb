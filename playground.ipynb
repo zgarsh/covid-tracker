{
 "cells": [
  {
   "cell_type": "code",
   "execution_count": 4,
   "metadata": {},
   "outputs": [],
   "source": [
    "import pandas as pd\n",
    "import matplotlib.pyplot as plt\n",
    "# import seaborn as sns\n",
    "\n",
    "# sns.set()"
   ]
  },
  {
   "cell_type": "code",
   "execution_count": 5,
   "metadata": {},
   "outputs": [],
   "source": [
    "# Get data - covid info from NYT and zip code to county code (FIP) mapping from HUD\n",
    "# HUD: https://www.huduser.gov/portal/datasets/usps_crosswalk.html\n",
    "# NYT: https://github.com/nytimes/covid-19-data/blob/master/us-counties.csv\n",
    "\n",
    "zips_and_fips = pd.read_csv('zip-to-fips.csv')\n",
    "og_data = pd.read_csv('nyt-covid-7-8.csv')\n",
    "# Note that ~30% of counties are missing from NYT covid data!"
   ]
  },
  {
   "cell_type": "code",
   "execution_count": 6,
   "metadata": {},
   "outputs": [
    {
     "data": {
      "text/plain": [
       "51278    6085\n",
       "Name: COUNTY, dtype: int64"
      ]
     },
     "execution_count": 6,
     "metadata": {},
     "output_type": "execute_result"
    }
   ],
   "source": [
    "zipcode = 94022\n",
    "# zips_and_fips[zips_and_fips['ZIP'] == zipcode]\n",
    "zips_and_fips.loc[zips_and_fips.ZIP == zipcode,'COUNTY']"
   ]
  },
  {
   "cell_type": "code",
   "execution_count": 11,
   "metadata": {},
   "outputs": [
    {
     "data": {
      "text/plain": [
       "ZIP       int64\n",
       "COUNTY    int64\n",
       "dtype: object"
      ]
     },
     "execution_count": 11,
     "metadata": {},
     "output_type": "execute_result"
    }
   ],
   "source": [
    "zips_and_fips.dtypes"
   ]
  },
  {
   "cell_type": "code",
   "execution_count": 2,
   "metadata": {},
   "outputs": [],
   "source": [
    "# Get data - covid info from NYT and zip code to county code (FIP) mapping from HUD\n",
    "# HUD: https://www.huduser.gov/portal/datasets/usps_crosswalk.html\n",
    "# NYT: https://github.com/nytimes/covid-19-data/blob/master/us-counties.csv\n",
    "\n",
    "zips_and_fips = pd.read_csv('zip-to-fips.csv')\n",
    "og_data = pd.read_csv('nyt-covid-7-8.csv')\n",
    "# Note that ~30% of counties are missing from NYT covid data!\n",
    "\n",
    "def zip_to_fips(zipcode):\n",
    "    \n",
    "    fip = zips_and_fips[zips_and_fips['ZIP'] == zipcode].iloc[0]['COUNTY']\n",
    "    \n",
    "    return fip\n",
    "\n",
    "def get_county_data(my_fips):\n",
    "    my_data = og_data[og_data.fips == my_fips]\n",
    "    \n",
    "    county_name = my_data['county'].unique()\n",
    "    \n",
    "    if len(county_name) > 1:\n",
    "        raise ValueError('something is wrong - found more than one matching county')\n",
    "    \n",
    "    my_filtered_data = my_data[['date', 'cases', 'deaths']]\n",
    "    \n",
    "    \n",
    "    return {\n",
    "        'county': county_name[0],\n",
    "        'data': my_filtered_data\n",
    "    }\n",
    "\n",
    "def zip_to_data(zip):\n",
    "    \"\"\"Returns dict with two values: 'county' has the name of the county, 'data' has a df with\n",
    "    date, cases to date, and deaths to date\"\"\"\n",
    "    \n",
    "    fips = zip_to_fips(zip)\n",
    "    data = get_county_data(fips)\n",
    "    \n",
    "    return data\n",
    "\n",
    "zip_code = 94022\n",
    "\n",
    "result = zip_to_data(zip_code)\n",
    "county_name = result['county']\n",
    "county_data = result['data']"
   ]
  },
  {
   "cell_type": "code",
   "execution_count": 4,
   "metadata": {},
   "outputs": [
    {
     "data": {
      "text/plain": [
       "6075"
      ]
     },
     "execution_count": 4,
     "metadata": {},
     "output_type": "execute_result"
    }
   ],
   "source": [
    "zip_to_fips(94114)"
   ]
  },
  {
   "cell_type": "code",
   "execution_count": 3,
   "metadata": {},
   "outputs": [
    {
     "data": {
      "text/plain": [
       "'Santa Clara'"
      ]
     },
     "execution_count": 3,
     "metadata": {},
     "output_type": "execute_result"
    }
   ],
   "source": [
    "county_name"
   ]
  },
  {
   "cell_type": "code",
   "execution_count": null,
   "metadata": {},
   "outputs": [],
   "source": []
  },
  {
   "cell_type": "code",
   "execution_count": null,
   "metadata": {},
   "outputs": [],
   "source": [
    "san_francisco = zip_to_data(94114)['data']\n",
    "\n",
    "# get rid of index, set date to index, and get rid of 'deaths'\n",
    "san_francisco.reset_index(inplace=True)\n",
    "san_francisco.set_index('date', inplace=True)\n",
    "san_francisco = san_francisco.drop('index', axis=1)\n",
    "san_francisco = san_francisco.drop('deaths', axis=1)"
   ]
  },
  {
   "cell_type": "code",
   "execution_count": null,
   "metadata": {},
   "outputs": [],
   "source": [
    "san_francisco.to_csv('sf-test-data.csv')"
   ]
  },
  {
   "cell_type": "code",
   "execution_count": null,
   "metadata": {},
   "outputs": [],
   "source": []
  },
  {
   "cell_type": "code",
   "execution_count": null,
   "metadata": {},
   "outputs": [],
   "source": [
    "zip_code = 94022\n",
    "\n",
    "result = zip_to_data(zip_code)\n",
    "county_name = result['county']\n",
    "county_data = result['data']"
   ]
  },
  {
   "cell_type": "code",
   "execution_count": null,
   "metadata": {},
   "outputs": [],
   "source": []
  },
  {
   "cell_type": "code",
   "execution_count": null,
   "metadata": {},
   "outputs": [],
   "source": []
  },
  {
   "cell_type": "code",
   "execution_count": null,
   "metadata": {},
   "outputs": [],
   "source": []
  },
  {
   "cell_type": "code",
   "execution_count": null,
   "metadata": {},
   "outputs": [],
   "source": [
    "santa_clara = zip_to_data(94022)['data']\n",
    "san_francisco = zip_to_data(94114)['data']\n",
    "orange_county = zip_to_data(92646)['data']\n",
    "tulsa = zip_to_data(74133)['data']\n",
    "\n",
    "\n",
    "plt.figure(figsize=(18, 10))\n",
    "plt.plot(orange_county['date'], orange_county['cases'], color='green')\n",
    "plt.plot(santa_clara['date'], santa_clara['cases'], color='blue')\n",
    "plt.plot(san_francisco['date'], san_francisco['cases'], color='red')\n",
    "plt.show()"
   ]
  },
  {
   "cell_type": "code",
   "execution_count": null,
   "metadata": {},
   "outputs": [],
   "source": []
  },
  {
   "cell_type": "code",
   "execution_count": null,
   "metadata": {},
   "outputs": [],
   "source": []
  },
  {
   "cell_type": "code",
   "execution_count": null,
   "metadata": {},
   "outputs": [],
   "source": []
  },
  {
   "cell_type": "code",
   "execution_count": null,
   "metadata": {},
   "outputs": [],
   "source": []
  },
  {
   "cell_type": "code",
   "execution_count": null,
   "metadata": {},
   "outputs": [],
   "source": []
  }
 ],
 "metadata": {
  "kernelspec": {
   "display_name": "Python 3",
   "language": "python",
   "name": "python3"
  },
  "language_info": {
   "codemirror_mode": {
    "name": "ipython",
    "version": 3
   },
   "file_extension": ".py",
   "mimetype": "text/x-python",
   "name": "python",
   "nbconvert_exporter": "python",
   "pygments_lexer": "ipython3",
   "version": "3.7.7"
  }
 },
 "nbformat": 4,
 "nbformat_minor": 2
}
