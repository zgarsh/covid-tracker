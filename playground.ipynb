{
 "cells": [
  {
   "cell_type": "code",
   "execution_count": 4,
   "metadata": {},
   "outputs": [],
   "source": [
    "import pandas as pd\n",
    "import matplotlib.pyplot as plt\n",
    "# import seaborn as sns\n",
    "\n",
    "# sns.set()"
   ]
  },
  {
   "cell_type": "code",
   "execution_count": 105,
   "metadata": {},
   "outputs": [],
   "source": [
    "# Get data - covid info from NYT and zip code to county code (FIP) mapping from HUD\n",
    "# HUD: https://www.huduser.gov/portal/datasets/usps_crosswalk.html\n",
    "# NYT: https://github.com/nytimes/covid-19-data/blob/master/us-counties.csv\n",
    "\n",
    "zips_and_fips = pd.read_csv('zip-to-fips.csv')\n",
    "og_data = pd.read_csv('nyt-covid-data.csv')\n",
    "# Note that ~30% of counties are missing from NYT covid data!\n",
    "\n",
    "def zip_to_fips(zipcode):\n",
    "    \n",
    "    fip = zips_and_fips[zips_and_fips['ZIP'] == zipcode].iloc[0]['COUNTY']\n",
    "    \n",
    "    return fip\n",
    "\n",
    "def get_county_data(my_fips):\n",
    "    my_data = og_data[og_data.fips == my_fips]\n",
    "    \n",
    "    county_name = my_data['county'].unique()\n",
    "    \n",
    "    if len(county_name) > 1:\n",
    "        raise ValueError('something is wrong - found more than one matching county')\n",
    "    \n",
    "    my_filtered_data = my_data[['date', 'cases', 'deaths']]\n",
    "    \n",
    "    \n",
    "    return {\n",
    "        'county': county_name[0],\n",
    "        'data': my_filtered_data\n",
    "    }\n",
    "\n",
    "def zip_to_data(zip):\n",
    "    \"\"\"Returns dict with two values: 'county' has the name of the county, 'data' has a df with\n",
    "    date, cases to date, and deaths to date\"\"\"\n",
    "    \n",
    "    fips = zip_to_fips(zip)\n",
    "    data = get_county_data(fips)\n",
    "    \n",
    "    return data\n",
    "\n",
    "def get_county_data_from_name(fullname):\n",
    "    my_data = og_data[og_data.fullname == fullname]\n",
    "    \n",
    "    county_name = my_data['county'].unique()\n",
    "    \n",
    "    if len(county_name) > 1:\n",
    "        raise ValueError('something is wrong - found more than one matching county')\n",
    "    \n",
    "    my_filtered_data = my_data[['date', 'cases', 'deaths']]\n",
    "    \n",
    "    \n",
    "    return my_filtered_data"
   ]
  },
  {
   "cell_type": "code",
   "execution_count": 106,
   "metadata": {},
   "outputs": [],
   "source": [
    "# Get data - covid info from NYT and zip code to county code (FIP) mapping from HUD\n",
    "# HUD: https://www.huduser.gov/portal/datasets/usps_crosswalk.html\n",
    "# NYT: https://github.com/nytimes/covid-19-data/blob/master/us-counties.csv\n",
    "\n",
    "zips_and_fips = pd.read_csv('zip-to-fips.csv')\n",
    "og_data = pd.read_csv('nyt-covid-data.csv')\n",
    "# Note that ~30% of counties are missing from NYT covid data!"
   ]
  },
  {
   "cell_type": "code",
   "execution_count": 107,
   "metadata": {},
   "outputs": [],
   "source": [
    "og_data['fullname'] = og_data['county'] + ' County, ' + og_data['state']"
   ]
  },
  {
   "cell_type": "code",
   "execution_count": 114,
   "metadata": {},
   "outputs": [],
   "source": [
    "def get_more_details_from_name(fullname):\n",
    "    \"\"\"get date of most recent entry, number of deaths on that date\"\"\"\n",
    "    my_data = og_data[og_data.fullname == fullname]\n",
    "\n",
    "    most_recent_date = my_data['date'].max()\n",
    "#     deaths = my_data[my_data.date == most_recent_date]['deaths'].item()\n",
    "    cases = my_data[my_data.date == most_recent_date]['cases'].item()\n",
    "\n",
    "    return(most_recent_date, cases)"
   ]
  },
  {
   "cell_type": "code",
   "execution_count": 115,
   "metadata": {},
   "outputs": [
    {
     "data": {
      "text/plain": [
       "('2020-07-16', 4863)"
      ]
     },
     "execution_count": 115,
     "metadata": {},
     "output_type": "execute_result"
    }
   ],
   "source": [
    "get_more_details_from_name('San Francisco County, California')"
   ]
  },
  {
   "cell_type": "code",
   "execution_count": 116,
   "metadata": {},
   "outputs": [
    {
     "name": "stdout",
     "output_type": "stream",
     "text": [
      "2020-07-16\n",
      "51\n",
      "4863\n"
     ]
    }
   ],
   "source": [
    "my_data = get_county_data_from_name('San Francisco County, California')\n",
    "\n",
    "most_recent_date = my_data['date'].max()\n",
    "deaths = my_data[my_data.date == most_recent_date]['deaths'].item()\n",
    "cases = my_data[my_data.date == most_recent_date]['cases'].item()\n",
    "\n",
    "print(most_recent_date)\n",
    "print(deaths)\n",
    "print(cases)"
   ]
  },
  {
   "cell_type": "code",
   "execution_count": 112,
   "metadata": {},
   "outputs": [],
   "source": [
    "test = my_data[my_data.date == most_recent_date]['deaths'].item()"
   ]
  },
  {
   "cell_type": "code",
   "execution_count": 113,
   "metadata": {},
   "outputs": [
    {
     "data": {
      "text/plain": [
       "51"
      ]
     },
     "execution_count": 113,
     "metadata": {},
     "output_type": "execute_result"
    }
   ],
   "source": [
    "test"
   ]
  },
  {
   "cell_type": "code",
   "execution_count": null,
   "metadata": {},
   "outputs": [],
   "source": []
  },
  {
   "cell_type": "code",
   "execution_count": null,
   "metadata": {},
   "outputs": [],
   "source": []
  },
  {
   "cell_type": "code",
   "execution_count": null,
   "metadata": {},
   "outputs": [],
   "source": []
  },
  {
   "cell_type": "code",
   "execution_count": null,
   "metadata": {},
   "outputs": [],
   "source": []
  },
  {
   "cell_type": "code",
   "execution_count": null,
   "metadata": {},
   "outputs": [],
   "source": [
    "zip_code = 94022\n",
    "\n",
    "result = zip_to_data(zip_code)\n",
    "county_name = result['county']\n",
    "county_data = result['data']"
   ]
  },
  {
   "cell_type": "code",
   "execution_count": 26,
   "metadata": {},
   "outputs": [],
   "source": [
    "options=[\n",
    "    {'label': 'New York City County, New York', 'value': 'New York City County, New York'},\n",
    "    {'label': 'Santa Clara County, California', 'value': 'Santa Clara County, California'},\n",
    "    {'label': 'San Francisco County, California', 'value': 'San Francisco County, California'}\n",
    "]"
   ]
  },
  {
   "cell_type": "code",
   "execution_count": 32,
   "metadata": {},
   "outputs": [],
   "source": [
    "all_fullnames = []\n",
    "\n",
    "for name in og_data['fullname'].unique():\n",
    "    dict_entry = {'label': name, 'value': name}\n",
    "    all_fullnames.append(dict_entry)"
   ]
  },
  {
   "cell_type": "code",
   "execution_count": 69,
   "metadata": {},
   "outputs": [
    {
     "data": {
      "image/png": "[encoded data removed]",
      "text/plain": [
       "<Figure size 1296x720 with 1 Axes>"
      ]
     },
     "metadata": {
      "needs_background": "light"
     },
     "output_type": "display_data"
    }
   ],
   "source": [
    "santa_clara = zip_to_data(94022)['data']\n",
    "san_francisco = zip_to_data(94114)['data']\n",
    "orange_county = zip_to_data(92646)['data']\n",
    "tulsa = zip_to_data(74133)['data']\n",
    "\n",
    "\n",
    "plt.figure(figsize=(18, 10))\n",
    "plt.plot(orange_county['date'], orange_county['cases'], color='green')\n",
    "plt.plot(santa_clara['date'], santa_clara['cases'], color='blue')\n",
    "plt.plot(san_francisco['date'], san_francisco['cases'], color='red')\n",
    "plt.show()"
   ]
  },
  {
   "cell_type": "code",
   "execution_count": null,
   "metadata": {},
   "outputs": [],
   "source": []
  },
  {
   "cell_type": "code",
   "execution_count": null,
   "metadata": {},
   "outputs": [],
   "source": []
  },
  {
   "cell_type": "code",
   "execution_count": null,
   "metadata": {},
   "outputs": [],
   "source": []
  },
  {
   "cell_type": "code",
   "execution_count": null,
   "metadata": {},
   "outputs": [],
   "source": []
  },
  {
   "cell_type": "code",
   "execution_count": null,
   "metadata": {},
   "outputs": [],
   "source": []
  }
 ],
 "metadata": {
  "kernelspec": {
   "display_name": "Python 3",
   "language": "python",
   "name": "python3"
  },
  "language_info": {
   "codemirror_mode": {
    "name": "ipython",
    "version": 3
   },
   "file_extension": ".py",
   "mimetype": "text/x-python",
   "name": "python",
   "nbconvert_exporter": "python",
   "pygments_lexer": "ipython3",
   "version": "3.7.7"
  }
 },
 "nbformat": 4,
 "nbformat_minor": 2
}
