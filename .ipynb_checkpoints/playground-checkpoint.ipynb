{
 "cells": [
  {
   "cell_type": "code",
   "execution_count": 22,
   "metadata": {},
   "outputs": [],
   "source": [
    "import pandas as pd\n",
    "import matplotlib.pyplot as plt"
   ]
  },
  {
   "cell_type": "code",
   "execution_count": 85,
   "metadata": {},
   "outputs": [],
   "source": [
    "# Get data - covid info from NYT and zip code to county code (FIP) mapping from HUD\n",
    "# HUD: https://www.huduser.gov/portal/datasets/usps_crosswalk.html\n",
    "# NYT: https://github.com/nytimes/covid-19-data/blob/master/us-counties.csv\n",
    "\n",
    "zips_and_fips = pd.read_csv('zip-to-fips.csv')\n",
    "og_data = pd.read_csv('nyt-covid-7-8.csv')\n",
    "# Note that ~30% of counties are missing from NYT covid data!"
   ]
  },
  {
   "cell_type": "code",
   "execution_count": 88,
   "metadata": {},
   "outputs": [],
   "source": [
    "def zip_to_fips(zipcode):\n",
    "    \n",
    "    fip = zips_and_fips[zips_and_fips['ZIP'] == zipcode].iloc[0]['COUNTY']\n",
    "    \n",
    "    return fip"
   ]
  },
  {
   "cell_type": "code",
   "execution_count": 89,
   "metadata": {},
   "outputs": [
    {
     "data": {
      "text/plain": [
       "6085"
      ]
     },
     "execution_count": 89,
     "metadata": {},
     "output_type": "execute_result"
    }
   ],
   "source": [
    "zip_to_fips(94022)"
   ]
  },
  {
   "cell_type": "code",
   "execution_count": 124,
   "metadata": {},
   "outputs": [],
   "source": [
    "def get_county_data(my_fips):\n",
    "    my_data = og_data[og_data.fips == my_fips]\n",
    "    \n",
    "    county_name = my_data['county'].unique()\n",
    "    \n",
    "    if len(county_name) > 1:\n",
    "        raise ValueError('something is wrong - found more than one matching county')\n",
    "    \n",
    "    my_filtered_data = my_data[['date', 'cases', 'deaths']]\n",
    "    \n",
    "    \n",
    "    return {\n",
    "        'county': county_name[0],\n",
    "        'data': my_filtered_data\n",
    "    }"
   ]
  },
  {
   "cell_type": "code",
   "execution_count": 132,
   "metadata": {},
   "outputs": [],
   "source": [
    "def zip_to_data(zip):\n",
    "    \"\"\"Returns dict with two values: 'county' has the name of the county, 'data' has a df with\n",
    "    date, cases to date, and deaths to date\"\"\"\n",
    "    \n",
    "    fips = zip_to_fips(zip)\n",
    "    data = get_county_data(fips)\n",
    "    \n",
    "    return data"
   ]
  },
  {
   "cell_type": "code",
   "execution_count": null,
   "metadata": {},
   "outputs": [],
   "source": [
    "import seaborn as sns"
   ]
  },
  {
   "cell_type": "code",
   "execution_count": null,
   "metadata": {},
   "outputs": [],
   "source": []
  },
  {
   "cell_type": "code",
   "execution_count": 140,
   "metadata": {},
   "outputs": [],
   "source": [
    "santa_clara = zip_to_data(94022)['data']\n",
    "san_francisco = zip_to_data(94114)['data']\n",
    "orange_county = zip_to_data(92646)['data']"
   ]
  },
  {
   "cell_type": "code",
   "execution_count": 147,
   "metadata": {},
   "outputs": [
    {
     "data": {
      "image/png": "[encoded data removed]",
      "text/plain": [
       "<Figure size 432x288 with 1 Axes>"
      ]
     },
     "metadata": {
      "needs_background": "light"
     },
     "output_type": "display_data"
    }
   ],
   "source": [
    "plt.plot(santa_clara['date'], santa_clara['cases'], color='blue')\n",
    "plt.plot(san_francisco['date'], san_francisco['cases'], color='red')\n",
    "plt.plot(orange_county['date'], orange_county['cases'], color='orange')\n",
    "plt.show()"
   ]
  },
  {
   "cell_type": "code",
   "execution_count": null,
   "metadata": {},
   "outputs": [],
   "source": []
  },
  {
   "cell_type": "code",
   "execution_count": null,
   "metadata": {},
   "outputs": [],
   "source": []
  },
  {
   "cell_type": "code",
   "execution_count": null,
   "metadata": {},
   "outputs": [],
   "source": []
  },
  {
   "cell_type": "code",
   "execution_count": null,
   "metadata": {},
   "outputs": [],
   "source": []
  },
  {
   "cell_type": "code",
   "execution_count": null,
   "metadata": {},
   "outputs": [],
   "source": []
  }
 ],
 "metadata": {
  "kernelspec": {
   "display_name": "Python 2",
   "language": "python",
   "name": "python2"
  },
  "language_info": {
   "codemirror_mode": {
    "name": "ipython",
    "version": 2
   },
   "file_extension": ".py",
   "mimetype": "text/x-python",
   "name": "python",
   "nbconvert_exporter": "python",
   "pygments_lexer": "ipython2",
   "version": "2.7.16"
  }
 },
 "nbformat": 4,
 "nbformat_minor": 2
}
